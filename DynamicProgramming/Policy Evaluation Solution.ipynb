{
 "cells": [
  {
   "cell_type": "code",
   "execution_count": null,
   "metadata": {},
   "outputs": [],
   "source": [
    "from IPython.core.debugger import set_trace\n",
    "import numpy as np\n",
    "#import pprint\n",
    "import sys\n",
    "if \"../\" not in sys.path:\n",
    "  sys.path.append(\"../\") \n",
    "\n",
    "from lib.envs.gridworld import GridworldEnv\n",
    "env = GridworldEnv()\n",
    "\n",
    "#from lib.envs.cliff_walking import CliffWalkingEnv\n",
    "#env = CliffWalkingEnv()"
   ]
  },
  {
   "cell_type": "code",
   "execution_count": 2,
   "metadata": {},
   "outputs": [],
   "source": [
    "\n",
    "def policy_eval(policy, env, discount_factor=1.0, theta=0.00001):\n",
    "    \"\"\"\n",
    "    Evaluate a policy given an environment and a full description of the environment's dynamics.\n",
    "    This version has better convergence compared to the policy_eval_copy() function\n",
    "    \n",
    "    Args:\n",
    "        policy: [S, A] shaped matrix representing the policy.\n",
    "        env: OpenAI env. env.P represents the transition probabilities of the environment.\n",
    "            env.P[s][a] is a list of transition tuples (prob, next_state, reward, done).\n",
    "            env.nS is a number of states in the environment. \n",
    "            env.nA is a number of actions in the environment.\n",
    "        theta: We stop evaluation once our value function change is less than theta for all states.\n",
    "        discount_factor: Gamma discount factor.\n",
    "    \n",
    "    Returns:\n",
    "        Vector of length env.nS representing the value function.\n",
    "    \"\"\"\n",
    "    # Start with a random (all 0) value function\n",
    "    V = np.zeros(env.nS)\n",
    "    iter = 0\n",
    "    while True:\n",
    "        iter += 1\n",
    "        delta = 0\n",
    "        # For each state, perform a \"full backup\"\n",
    "        for s in range(env.nS):\n",
    "            v = 0\n",
    "            # Look at the possible next actions\n",
    "            for a, action_prob in enumerate(policy[s]):\n",
    "                # For each action, look at the possible next states...\n",
    "                for  prob, next_state, reward, done in env.P[s][a]:\n",
    "                    # Calculate the expected value\n",
    "                    v += action_prob * prob * (reward + discount_factor * V[next_state])\n",
    "            # How much our value function changed (across any states)\n",
    "            delta = max(delta, np.abs(v - V[s]))\n",
    "            V[s] = v\n",
    "        #if 1 == iter :\n",
    "        #    print(\"V= \",V)\n",
    "        # Stop evaluating once our value function change is below a threshold\n",
    "        if delta < theta:\n",
    "            print(\"Number of iterations= \",iter)\n",
    "            break\n",
    "    return np.array(V)\n",
    "\n",
    "def policy_eval_copy(policy, env, discount_factor=1.0, theta=0.00001):\n",
    "    \"\"\"\n",
    "    Evaluate a policy given an environment and a full description of the \n",
    "    environment's dynamics. This version makes a copy of the V(Estimate of \n",
    "    the value function) and calculates all v before updating V, as in the book.\n",
    "    The other version with stepwise updates of V outperforms in both computations\n",
    "    and in convergence.\n",
    "    \n",
    "    Args:\n",
    "        policy: [S, A] shaped matrix representing the policy.\n",
    "        env: OpenAI env. env.P represents the transition probabilities of the environment.\n",
    "            env.P[s][a] is a list of transition tuples (prob, next_state, reward, done).\n",
    "            env.nS is a number of states in the environment. \n",
    "            env.nA is a number of actions in the environment.\n",
    "        theta: We stop evaluation once our value function change is less than theta for all states.\n",
    "        discount_factor: Gamma discount factor.\n",
    "    \n",
    "    Returns:\n",
    "        Vector of length env.nS representing the value function.\n",
    "    \"\"\"\n",
    "   \n",
    "    # V = Estimate of the value function\n",
    "    # Initialize V arbitrarily, except that V (terminal) = 0\n",
    "    # In this implementation we initialize V to zeros \n",
    "    V = np.zeros(env.nS)\n",
    "    iter = 0\n",
    "    #printouts = 0\n",
    "    #print_factor = 1\n",
    "    while True:\n",
    "        iter += 1\n",
    "        # Loop over all states and perform an update\n",
    "        v = np.zeros(env.nS)\n",
    "        for s in range(env.nS):\n",
    "            # Loop over all actions in each state\n",
    "            for a, action_prob in enumerate(policy[s]):\n",
    "                [(prob, next_state, reward, done)] = env.P[s][a]\n",
    "                # Calculate the expected value. Ref: Sutton Barto eq. 4.5.\n",
    "                # Sum over all actions i each state    \n",
    "                if done:\n",
    "                    v[s] += action_prob * prob * reward\n",
    "                    #print(\"-- -- -- Done:\", done, \"Current state:\", s, \"Next state:\", next_state)\n",
    "                    #print(\"action_prob:\", action_prob, \"prob:\", prob, \"Reward:\", reward, \"V[next_state]\", V[next_state], \"v[s]=\", v[s] )\n",
    "                else:\n",
    "                    v[s] += action_prob * prob * (reward + discount_factor * V[next_state])\n",
    "                    #print(\"Normal case:\",\"Current state:\", s, \"Next state:\", next_state, \"action_prob=\", action_prob, \"prob=\", prob, \"Reward=\", reward, \"V[next_state]=\", V[next_state], \"v[s]=\", v[s] )\n",
    "        if 1 == iter :\n",
    "            print(\"V= \",V)\n",
    "            print(\"v= \",v)\n",
    "        \n",
    "        delta = 0\n",
    "        for s in range(env.nS):\n",
    "            # Calculate How much our value function changed (across any states)\n",
    "            delta = max(delta, abs(v[s] - V[s]))\n",
    "\n",
    "        V = v\n",
    "        \n",
    "        # Stop evaluating once our value function change is below a threshold\n",
    "        if delta < theta:\n",
    "            print(\"Number of iterations= \",iter)\n",
    "            break\n",
    "        #else:\n",
    "        #    print(\"Delta= \",delta)\n",
    "    return np.array(V)"
   ]
  },
  {
   "cell_type": "code",
   "execution_count": 3,
   "metadata": {},
   "outputs": [
    {
     "name": "stdout",
     "output_type": "stream",
     "text": [
      "[[0.25 0.25 0.25 0.25]\n",
      " [0.25 0.25 0.25 0.25]\n",
      " [0.25 0.25 0.25 0.25]\n",
      " [0.25 0.25 0.25 0.25]\n",
      " [0.25 0.25 0.25 0.25]\n",
      " [0.25 0.25 0.25 0.25]\n",
      " [0.25 0.25 0.25 0.25]\n",
      " [0.25 0.25 0.25 0.25]\n",
      " [0.25 0.25 0.25 0.25]\n",
      " [0.25 0.25 0.25 0.25]\n",
      " [0.25 0.25 0.25 0.25]\n",
      " [0.25 0.25 0.25 0.25]\n",
      " [0.25 0.25 0.25 0.25]\n",
      " [0.25 0.25 0.25 0.25]\n",
      " [0.25 0.25 0.25 0.25]\n",
      " [0.25 0.25 0.25 0.25]]\n"
     ]
    }
   ],
   "source": [
    "equal_dist_policy = np.ones([env.nS, env.nA]) / env.nA\n",
    "print(equal_dist_policy)\n",
    "#zeros_policy = np.zeros([env.nS, env.nA]) \n",
    "#print(zeros_policy)\n",
    "# Zeros will not work as all the action_probabilities be zero "
   ]
  },
  {
   "cell_type": "code",
   "execution_count": 4,
   "metadata": {},
   "outputs": [
    {
     "name": "stdout",
     "output_type": "stream",
     "text": [
      "Number of iterations=  88\n"
     ]
    }
   ],
   "source": [
    "#Discount factor\n",
    "df = 1.0\n",
    "theta = 0.001\n",
    "v = policy_eval(equal_dist_policy, env, df, theta)"
   ]
  },
  {
   "cell_type": "code",
   "execution_count": 5,
   "metadata": {},
   "outputs": [
    {
     "name": "stdout",
     "output_type": "stream",
     "text": [
      "Value Function:\n",
      "[  0.         -13.99330608 -19.99037659 -21.98940765 -13.99330608\n",
      " -17.99178568 -19.99108113 -19.99118312 -19.99037659 -19.99108113\n",
      " -17.99247411 -13.99438108 -21.98940765 -19.99118312 -13.99438108\n",
      "   0.        ]\n",
      "\n",
      "Reshaped Grid Value Function:\n",
      "[[  0.         -13.99330608 -19.99037659 -21.98940765]\n",
      " [-13.99330608 -17.99178568 -19.99108113 -19.99118312]\n",
      " [-19.99037659 -19.99108113 -17.99247411 -13.99438108]\n",
      " [-21.98940765 -19.99118312 -13.99438108   0.        ]]\n",
      "\n"
     ]
    }
   ],
   "source": [
    "print(\"Value Function:\")\n",
    "print(v)\n",
    "print(\"\")\n",
    "\n",
    "print(\"Reshaped Grid Value Function:\")\n",
    "print(v.reshape(env.shape))\n",
    "print(\"\")"
   ]
  },
  {
   "cell_type": "code",
   "execution_count": 6,
   "metadata": {},
   "outputs": [],
   "source": [
    "# Test: Make sure the evaluated policy is what we expected\n",
    "# Gridworld\n",
    "expected_v = np.array([0, -14, -20, -22, -14, -18, -20, -20, -20, -20, -18, -14, -22, -20, -14, 0])\n",
    "np.testing.assert_array_almost_equal(v, expected_v, decimal=2)"
   ]
  },
  {
   "cell_type": "code",
   "execution_count": null,
   "metadata": {},
   "outputs": [],
   "source": []
  }
 ],
 "metadata": {
  "kernelspec": {
   "display_name": "Python 3",
   "language": "python",
   "name": "python3"
  },
  "language_info": {
   "codemirror_mode": {
    "name": "ipython",
    "version": 3
   },
   "file_extension": ".py",
   "mimetype": "text/x-python",
   "name": "python",
   "nbconvert_exporter": "python",
   "pygments_lexer": "ipython3",
   "version": "3.8.3"
  }
 },
 "nbformat": 4,
 "nbformat_minor": 4
}
